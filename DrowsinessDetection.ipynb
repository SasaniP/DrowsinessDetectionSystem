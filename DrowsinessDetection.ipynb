{
  "nbformat": 4,
  "nbformat_minor": 0,
  "metadata": {
    "colab": {
      "provenance": [],
      "gpuType": "T4",
      "mount_file_id": "1MPtWABtb28bc-wbylwNXwKcU2j3_02IM",
      "authorship_tag": "ABX9TyOPfcrjAOkVa+Y0ZHUdHezq",
      "include_colab_link": true
    },
    "kernelspec": {
      "name": "python3",
      "display_name": "Python 3"
    },
    "language_info": {
      "name": "python"
    },
    "accelerator": "GPU"
  },
  "cells": [
    {
      "cell_type": "markdown",
      "metadata": {
        "id": "view-in-github",
        "colab_type": "text"
      },
      "source": [
        "<a href=\"https://colab.research.google.com/github/SasaniP/DrowsinessDetectionSystem/blob/main/DrowsinessDetection.ipynb\" target=\"_parent\"><img src=\"https://colab.research.google.com/assets/colab-badge.svg\" alt=\"Open In Colab\"/></a>"
      ]
    },
    {
      "cell_type": "markdown",
      "source": [
        "## Custom train the model\n",
        "## Then save the model\n",
        "## use the model real-time in jupyter notebook"
      ],
      "metadata": {
        "id": "0wNgi-Wr1KVV"
      }
    },
    {
      "cell_type": "code",
      "source": [
        "import torch\n",
        "import matplotlib.pyplot as plt\n",
        "%matplotlib inline\n",
        "import cv2\n",
        "import numpy as np"
      ],
      "metadata": {
        "id": "baIErafX1Jqe"
      },
      "execution_count": 1,
      "outputs": []
    },
    {
      "cell_type": "code",
      "source": [
        "!git clone https://github.com/ultralytics/yolov5"
      ],
      "metadata": {
        "colab": {
          "base_uri": "https://localhost:8080/"
        },
        "id": "I05rjMnF1cEl",
        "outputId": "29812159-8ca1-4231-bd1a-c0c91ec75510"
      },
      "execution_count": 2,
      "outputs": [
        {
          "output_type": "stream",
          "name": "stdout",
          "text": [
            "Cloning into 'yolov5'...\n",
            "remote: Enumerating objects: 15927, done.\u001b[K\n",
            "remote: Counting objects: 100% (47/47), done.\u001b[K\n",
            "remote: Compressing objects: 100% (38/38), done.\u001b[K\n",
            "remote: Total 15927 (delta 20), reused 26 (delta 9), pack-reused 15880\u001b[K\n",
            "Receiving objects: 100% (15927/15927), 14.60 MiB | 16.06 MiB/s, done.\n",
            "Resolving deltas: 100% (10919/10919), done.\n"
          ]
        }
      ]
    },
    {
      "cell_type": "code",
      "source": [
        "!cd yolov5 && python train.py --img 320 --batch 16 --epochs 500 --data '/content/drive/MyDrive/DrowsinessDetectionDataset/dataset.yml' --weights yolov5s.pt --workers 2"
      ],
      "metadata": {
        "id": "JfIBcsWJ12Fz"
      },
      "execution_count": null,
      "outputs": []
    },
    {
      "cell_type": "code",
      "source": [
        "model = '/content/yolov5/runs/train/exp/weights/best.pt'"
      ],
      "metadata": {
        "id": "lluCDGiW12Cb"
      },
      "execution_count": 19,
      "outputs": []
    },
    {
      "cell_type": "code",
      "source": [
        "import torch"
      ],
      "metadata": {
        "id": "EjoF1_Uw11_e"
      },
      "execution_count": 5,
      "outputs": []
    },
    {
      "cell_type": "code",
      "source": [
        "torch.save(model, 'train1.pt' )"
      ],
      "metadata": {
        "id": "u84yRIqg117M"
      },
      "execution_count": 21,
      "outputs": []
    },
    {
      "cell_type": "markdown",
      "source": [
        "\n",
        "\n",
        "---\n",
        "\n",
        "\n",
        "\n",
        "---\n",
        "\n",
        "\n",
        "\n",
        "---\n",
        "\n"
      ],
      "metadata": {
        "id": "oRDj0OFU1GoG"
      }
    },
    {
      "cell_type": "code",
      "source": [
        "from google.colab import drive\n",
        "drive.mount('/content/drive')"
      ],
      "metadata": {
        "id": "pEWusDfv1q28"
      },
      "execution_count": null,
      "outputs": []
    },
    {
      "cell_type": "code",
      "execution_count": null,
      "metadata": {
        "id": "NBankQ3J5WjR"
      },
      "outputs": [],
      "source": [
        "import torch\n",
        "import matplotlib.pyplot as plt\n",
        "%matplotlib inline\n",
        "import cv2\n",
        "import numpy as np"
      ]
    },
    {
      "cell_type": "code",
      "source": [
        "!git clone https://github.com/ultralytics/yolov5"
      ],
      "metadata": {
        "colab": {
          "base_uri": "https://localhost:8080/"
        },
        "id": "gXkOpLTR5usZ",
        "outputId": "2ca15512-9e2b-462f-8205-bd8b8701d50b"
      },
      "execution_count": null,
      "outputs": [
        {
          "output_type": "stream",
          "name": "stdout",
          "text": [
            "Cloning into 'yolov5'...\n",
            "remote: Enumerating objects: 15927, done.\u001b[K\n",
            "remote: Counting objects: 100% (47/47), done.\u001b[K\n",
            "remote: Compressing objects: 100% (38/38), done.\u001b[K\n",
            "remote: Total 15927 (delta 20), reused 26 (delta 9), pack-reused 15880\u001b[K\n",
            "Receiving objects: 100% (15927/15927), 14.60 MiB | 30.26 MiB/s, done.\n",
            "Resolving deltas: 100% (10919/10919), done.\n"
          ]
        }
      ]
    },
    {
      "cell_type": "code",
      "source": [
        "cd yolov5"
      ],
      "metadata": {
        "colab": {
          "base_uri": "https://localhost:8080/"
        },
        "id": "sG3yG5PB56fY",
        "outputId": "7cc52fe2-7805-413f-dc02-fe631479c4b4"
      },
      "execution_count": null,
      "outputs": [
        {
          "output_type": "stream",
          "name": "stdout",
          "text": [
            "/content/yolov5\n"
          ]
        }
      ]
    },
    {
      "cell_type": "code",
      "source": [
        "pip install -r requirements.txt"
      ],
      "metadata": {
        "id": "iUWl8CUF586R"
      },
      "execution_count": null,
      "outputs": []
    },
    {
      "cell_type": "code",
      "source": [
        "model = torch.hub.load('ultralytics/yolov5', 'yolov5s')"
      ],
      "metadata": {
        "id": "EjMKlCjQ5cmx"
      },
      "execution_count": null,
      "outputs": []
    },
    {
      "cell_type": "code",
      "source": [
        "import uuid #uniq identifier\n",
        "import os\n",
        "import time"
      ],
      "metadata": {
        "id": "ssNqfunF5ovE"
      },
      "execution_count": null,
      "outputs": []
    },
    {
      "cell_type": "code",
      "source": [
        "IMAGES_PATH = '/content/yolov5/data/images' #data/images\n",
        "labels = ['awake', 'drowsy']\n",
        "number_imgs = 20"
      ],
      "metadata": {
        "id": "MblKmQp26MSg"
      },
      "execution_count": null,
      "outputs": []
    },
    {
      "cell_type": "code",
      "source": [
        "cap = cv2.VideoCapture(0)\n",
        "#loop trough 2 labels\n",
        "for label in labels:\n",
        "    print('collecting images for {}'.format(labels))\n",
        "    time.sleep(5)\n",
        "\n",
        "    #loop through 20 images\n",
        "    for img_num in range(number_imgs):\n",
        "        print('collecting images for {}, image number {}'.format(label,img_num))\n",
        "\n",
        "        ret, frame = cap.read()\n",
        "\n",
        "        #image path\n",
        "        imgname = (IMAGES_PATH, label + '.' + str(uuid.uuid1()) + '.jpg')\n",
        "        #writing the image to the path\n",
        "        cv2.imwrite(imgname, frame)\n",
        "        #render to screen\n",
        "        cv2.imshow('Image collection', frame)\n",
        "        time.sleep(2)\n",
        "\n",
        "        if cv2.waitKey(10) & 0xFF == ord('q'):\n",
        "            break\n",
        "\n",
        "\n",
        "cap.release()\n",
        "cv2.destroyAllWindows()"
      ],
      "metadata": {
        "id": "aF_bcD7j6avB"
      },
      "execution_count": null,
      "outputs": []
    },
    {
      "cell_type": "code",
      "source": [],
      "metadata": {
        "id": "nyh5uGUd6r-v"
      },
      "execution_count": null,
      "outputs": []
    }
  ]
}